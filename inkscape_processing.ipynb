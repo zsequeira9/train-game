{
 "cells": [
  {
   "cell_type": "code",
   "execution_count": 2,
   "id": "344ef485-8104-43c1-9555-118aa14bdb71",
   "metadata": {},
   "outputs": [],
   "source": [
    "import xml.etree.ElementTree as ET\n",
    "import re\n",
    "import os.path\n",
    "from io import BytesIO\n",
    "\n",
    "#tree = ET.parse(r'C:\\Users\\Chris\\Documents\\projects\\train-game\\drawing.svg')\n",
    "infile = 'drawing.svg'\n",
    "svg_outfile = os.path.join('.', 'public', 'ticket-nobg.svg')\n",
    "react_outfile = os.path.join('.', 'public', 'ticket-nobg.react.svg')\n",
    "\n",
    "ns = {'svg': 'http://www.w3.org/2000/svg',\n",
    "      'ttr': 'https://train-game.github.io',\n",
    "          'inkscape': 'http://www.inkscape.org/namespaces/inkscape'}\n",
    "\n",
    "ET.register_namespace('', 'http://www.w3.org/2000/svg')\n",
    "ET.register_namespace('inkscape', 'http://www.inkscape.org/namespaces/inkscape')\n",
    "ET.register_namespace('sodipodi', 'http://sodipodi.sourceforge.net/DTD/sodipodi-0.dtd')\n",
    "\n",
    "def fix_doc(node):\n",
    "    # Remove namespaced attributes from node\n",
    "    for attrib_name in list(node.attrib.keys()):\n",
    "        if 'inkscape' in attrib_name or 'sodipodi' in attrib_name or 'XML' in attrib_name:\n",
    "            del node.attrib[attrib_name]\n",
    "    for child in node.findall('*'):\n",
    "        # Strip nodes\n",
    "        if 'inkscape' in child.tag or 'sodipodi' in child.tag or child.get('id') == 'BG':\n",
    "            node.remove(child)\n",
    "            continue\n",
    "\n",
    "        # Rename inkscape:label to id\n",
    "        label = child.attrib.get('{http://www.inkscape.org/namespaces/inkscape}label')\n",
    "        if label:\n",
    "            child.set('id', label)\n",
    "            del child.attrib['{http://www.inkscape.org/namespaces/inkscape}label']\n",
    "\n",
    "        # Make styles react-y (part 1)\n",
    "        style = child.attrib.get('style')\n",
    "        if style:\n",
    "            rules = style.split(';')\n",
    "            new_rules = []\n",
    "            for rule in rules:\n",
    "                key, value = rule.split(':')\n",
    "                new_key = re.sub(r'(-\\w)', lambda result: result.group(1).replace('-', '').upper(), key)\n",
    "                new_rules.append(f'{new_key}:\"{value}\"')\n",
    "            new_styles = '{{'\n",
    "            new_styles += ','.join(new_rules)\n",
    "            new_styles += '}}'\n",
    "            \n",
    "            child.attrib['style'] = new_styles\n",
    "\n",
    "    for child in node.findall('*'):\n",
    "        fix_doc(child)\n",
    "\n",
    "def make_reacty(node):\n",
    "    # Make styles react-y (part 1)\n",
    "    style = child.attrib.get('style')\n",
    "    if style:\n",
    "        rules = style.split(';')\n",
    "\n",
    "        new_rules = []\n",
    "        for rule in rules:\n",
    "            key, value = rule.split(':')\n",
    "            new_key = re.sub(r'(-\\w)', lambda result: result.group(1).replace('-', '').upper(), key)\n",
    "            new_rules.append(f'{new_key}:\"{value}\"')\n",
    "        \n",
    "        child.attrib['style'] = '{{' + ','.join(new_rules) + '}}'\n",
    "\n",
    "        make_reacty(child)\n",
    "\n",
    "def to_react_string(svg_node):\n",
    "    svg_data = ET.tostring(root).decode()\n",
    "    svg_data = re.sub(r'style=\"(.*?)\"', lambda result: f\"style={result.group(1)}\", svg_data)\n",
    "    svg_data = svg_data.replace(r'&quot;', '\"')\n",
    "    return svg_data  # svg_data[:1000]\n"
   ]
  },
  {
   "cell_type": "code",
   "execution_count": 142,
   "id": "d43393c3-a567-4056-bdb6-db354c65eacf",
   "metadata": {},
   "outputs": [],
   "source": [
    "tree = ET.parse(infile)\n",
    "root = tree.getroot()\n",
    "fix_doc(root)\n",
    "# write fixed file\n",
    "open(svg_outfile,'w').write(ET.tostring(root).decode()\n",
    "make_reacty(root)\n"
   ]
  },
  {
   "cell_type": "code",
   "execution_count": 143,
   "id": "3043c9f7-fa36-48b9-8275-f44f9ad6879b",
   "metadata": {},
   "outputs": [
    {
     "data": {
      "text/plain": [
       "'<svg xmlns=\"http://www.w3.org/2000/svg\" width=\"1000\" height=\"667\" viewBox=\"0 0 264.583 176.47686\" version=\"1.1\" id=\"svg1\"><defs id=\"defs1\" /><g id=\"Cities\"><circle style={{fill:\"#000000\",strokeWidth:\"0.2646\"}} id=\"vancouver\" cx=\"28.68\" cy=\"27.81\" r=\"1.965\" /><circle style={{fill:\"#000000\",strokeWidth:\"0.2646\"}} id=\"seattle\" cx=\"27.97\" cy=\"41.74\" r=\"1.965\" /><circle style={{fill:\"#000000\",strokeWidth:\"0.2646\"}} id=\"portland\" cx=\"22.25\" cy=\"54.97\" r=\"1.965\" /><circle style={{fill:\"#000000\",strokeWidth:\"0.2646\"}} id=\"san_francisco\" cx=\"18.63\" cy=\"106.2\" r=\"1.965\" /><circle style={{fill:\"#000000\",strokeWidth:\"0.2646\"}} id=\"los_angeles\" cx=\"38.56\" cy=\"132.9\" r=\"1.965\" /><circle style={{fill:\"#000000\",strokeWidth:\"0.2646\"}} id=\"las_vegas\" cx=\"55.58\" cy=\"117.9\" r=\"1.965\" /><circle style={{fill:\"#000000\",strokeWidth:\"0.2646\"}} id=\"phoenix\" cx=\"69.96\" cy=\"134.6\" r=\"1.965\" /><circle style={{fill:\"#000000\",strokeWidth:\"0.2646\"}} id=\"salt_lake_city\" cx=\"69.78\" cy=\"89.35\" r=\"1.965\" /><circle style='"
      ]
     },
     "execution_count": 143,
     "metadata": {},
     "output_type": "execute_result"
    }
   ],
   "source": [
    "# Make styles react-y (part 2)\n",
    "# convert `styles=\"{{x:y}}\"` to `styles={{x,y}}`\n",
    "svg_data = ET.tostring(root).decode()\n",
    "svg_data = re.sub(r'style=\"(.*?)\"', lambda result: f\"style={result.group(1)}\", svg_data)\n",
    "svg_data = svg_data.replace(r'&quot;', '\"')\n",
    "svg_data[:1000]"
   ]
  },
  {
   "cell_type": "code",
   "execution_count": 144,
   "id": "b6929bd4-931b-4fde-9cb5-656cac453492",
   "metadata": {},
   "outputs": [
    {
     "data": {
      "text/plain": [
       "92466"
      ]
     },
     "execution_count": 144,
     "metadata": {},
     "output_type": "execute_result"
    }
   ],
   "source": [
    "open(outfile, 'w').write(svg_data)"
   ]
  },
  {
   "cell_type": "code",
   "execution_count": 39,
   "id": "de424ee2-1aac-4c30-9934-21c1121c346c",
   "metadata": {},
   "outputs": [],
   "source": [
    "tree.write(outfile)\n"
   ]
  },
  {
   "cell_type": "code",
   "execution_count": 35,
   "id": "06a9a030-b2e3-4425-a717-a3ea76e41d75",
   "metadata": {},
   "outputs": [
    {
     "data": {
      "text/plain": [
       "'banana'"
      ]
     },
     "execution_count": 35,
     "metadata": {},
     "output_type": "execute_result"
    }
   ],
   "source": [
    "# dir(node)\n",
    "# node.attrib\n",
    "# node.set('id', 'banana')\n",
    "node.get('id')"
   ]
  },
  {
   "cell_type": "code",
   "execution_count": 19,
   "id": "016bfb28-2bbf-48d0-bb02-ea194147e644",
   "metadata": {},
   "outputs": [
    {
     "name": "stdout",
     "output_type": "stream",
     "text": [
      "<Element '{http://www.w3.org/2000/svg}g' at 0x000002821E3CFA60>\n",
      "<Element '{http://www.w3.org/2000/svg}g' at 0x000002821E3CFC90>\n",
      "<Element '{http://www.w3.org/2000/svg}g' at 0x000002821E3A9440>\n",
      "<Element '{http://www.w3.org/2000/svg}g' at 0x000002821E3A94E0>\n",
      "<Element '{http://www.w3.org/2000/svg}g' at 0x000002821E3A97B0>\n",
      "<Element '{http://www.w3.org/2000/svg}g' at 0x000002821E3A9C10>\n",
      "<Element '{http://www.w3.org/2000/svg}g' at 0x000002821E3A9EE0>\n",
      "<Element '{http://www.w3.org/2000/svg}g' at 0x000002821E3A9FD0>\n",
      "<Element '{http://www.w3.org/2000/svg}g' at 0x000002821E3AA390>\n",
      "<Element '{http://www.w3.org/2000/svg}g' at 0x000002821E3AA6B0>\n",
      "<Element '{http://www.w3.org/2000/svg}g' at 0x000002821E3AA930>\n",
      "<Element '{http://www.w3.org/2000/svg}g' at 0x000002821E3AAAC0>\n",
      "<Element '{http://www.w3.org/2000/svg}g' at 0x000002821E3AAC50>\n",
      "<Element '{http://www.w3.org/2000/svg}g' at 0x000002821E3AADE0>\n",
      "<Element '{http://www.w3.org/2000/svg}g' at 0x000002821E3AAED0>\n",
      "<Element '{http://www.w3.org/2000/svg}g' at 0x000002821E3AB060>\n",
      "<Element '{http://www.w3.org/2000/svg}g' at 0x000002821E3AB420>\n",
      "<Element '{http://www.w3.org/2000/svg}g' at 0x000002821E3AB560>\n"
     ]
    }
   ],
   "source": [
    "for x in root.iter('{http://www.w3.org/2000/svg}g'):\n",
    "    print(x)"
   ]
  },
  {
   "cell_type": "code",
   "execution_count": 20,
   "id": "df598435-6409-4d70-b9ff-72c37c5d5a3e",
   "metadata": {},
   "outputs": [
    {
     "name": "stdout",
     "output_type": "stream",
     "text": [
      "<Element '{http://www.w3.org/2000/svg}g' at 0x000002821E3CFA60>\n",
      "<Element '{http://www.w3.org/2000/svg}g' at 0x000002821E3CFC90>\n",
      "<Element '{http://www.w3.org/2000/svg}g' at 0x000002821E3A9440>\n",
      "<Element '{http://www.w3.org/2000/svg}g' at 0x000002821E3AB560>\n"
     ]
    }
   ],
   "source": [
    "for x in root.findall('svg:g', ns):\n",
    "    print(x)"
   ]
  }
 ],
 "metadata": {
  "kernelspec": {
   "display_name": "Python 3 (ipykernel)",
   "language": "python",
   "name": "python3"
  },
  "language_info": {
   "codemirror_mode": {
    "name": "ipython",
    "version": 3
   },
   "file_extension": ".py",
   "mimetype": "text/x-python",
   "name": "python",
   "nbconvert_exporter": "python",
   "pygments_lexer": "ipython3",
   "version": "3.12.2"
  }
 },
 "nbformat": 4,
 "nbformat_minor": 5
}
