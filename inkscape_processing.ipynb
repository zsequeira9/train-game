{
 "cells": [
  {
   "cell_type": "code",
   "execution_count": 35,
   "id": "344ef485-8104-43c1-9555-118aa14bdb71",
   "metadata": {},
   "outputs": [],
   "source": [
    "import xml.etree.ElementTree as ET\n",
    "\n",
    "#tree = ET.parse(r'C:\\Users\\Chris\\Documents\\projects\\train-game\\drawing.svg')\n",
    "tree = ET.parse(r'drawing-nobg.svg')\n",
    "root = tree.getroot()\n",
    "\n",
    "root\n",
    "\n",
    "ns = {'svg': 'http://www.w3.org/2000/svg',\n",
    "      'ttr': 'https://train-game.github.io',\n",
    "          'inkscape': 'http://www.inkscape.org/namespaces/inkscape'}\n",
    "\n",
    "ET.register_namespace('', 'http://www.w3.org/2000/svg')\n",
    "ET.register_namespace('inkscape', 'http://www.inkscape.org/namespaces/inkscape')\n",
    "ET.register_namespace('sodipodi', 'http://sodipodi.sourceforge.net/DTD/sodipodi-0.dtd')\n"
   ]
  },
  {
   "cell_type": "code",
   "execution_count": 45,
   "id": "058d2bee-ace6-406e-b6c1-4aadad51d504",
   "metadata": {},
   "outputs": [
    {
     "name": "stdout",
     "output_type": "stream",
     "text": [
      "node tag:  {http://www.w3.org/2000/svg}svg\n",
      "node tag:  {http://sodipodi.sourceforge.net/DTD/sodipodi-0.dtd}namedview\n",
      "node tag:  {http://www.w3.org/2000/svg}defs\n",
      "node tag:  {http://www.inkscape.org/namespaces/inkscape}path-effect\n",
      "node tag:  {http://www.inkscape.org/namespaces/inkscape}path-effect\n",
      "node tag:  {http://www.w3.org/2000/svg}g\n",
      "node tag:  {http://www.w3.org/2000/svg}circle\n",
      "node tag:  {http://www.w3.org/2000/svg}circle\n",
      "node tag:  {http://www.w3.org/2000/svg}circle\n",
      "node tag:  {http://www.w3.org/2000/svg}circle\n",
      "node tag:  {http://www.w3.org/2000/svg}circle\n",
      "node tag:  {http://www.w3.org/2000/svg}circle\n",
      "node tag:  {http://www.w3.org/2000/svg}circle\n",
      "node tag:  {http://www.w3.org/2000/svg}circle\n",
      "node tag:  {http://www.w3.org/2000/svg}circle\n",
      "node tag:  {http://www.w3.org/2000/svg}circle\n",
      "node tag:  {http://www.w3.org/2000/svg}circle\n",
      "node tag:  {http://www.w3.org/2000/svg}circle\n",
      "node tag:  {http://www.w3.org/2000/svg}circle\n",
      "node tag:  {http://www.w3.org/2000/svg}circle\n",
      "node tag:  {http://www.w3.org/2000/svg}circle\n",
      "node tag:  {http://www.w3.org/2000/svg}circle\n",
      "node tag:  {http://www.w3.org/2000/svg}circle\n",
      "node tag:  {http://www.w3.org/2000/svg}circle\n",
      "node tag:  {http://www.w3.org/2000/svg}circle\n",
      "node tag:  {http://www.w3.org/2000/svg}circle\n",
      "node tag:  {http://www.w3.org/2000/svg}circle\n",
      "node tag:  {http://www.w3.org/2000/svg}circle\n",
      "node tag:  {http://www.w3.org/2000/svg}circle\n",
      "node tag:  {http://www.w3.org/2000/svg}circle\n",
      "node tag:  {http://www.w3.org/2000/svg}circle\n",
      "node tag:  {http://www.w3.org/2000/svg}circle\n",
      "node tag:  {http://www.w3.org/2000/svg}circle\n",
      "node tag:  {http://www.w3.org/2000/svg}circle\n",
      "node tag:  {http://www.w3.org/2000/svg}circle\n",
      "node tag:  {http://www.w3.org/2000/svg}circle\n",
      "node tag:  {http://www.w3.org/2000/svg}circle\n",
      "node tag:  {http://www.w3.org/2000/svg}circle\n",
      "node tag:  {http://www.w3.org/2000/svg}circle\n",
      "node tag:  {http://www.w3.org/2000/svg}circle\n",
      "node tag:  {http://www.w3.org/2000/svg}circle\n",
      "node tag:  {http://www.w3.org/2000/svg}circle\n",
      "node tag:  {http://www.w3.org/2000/svg}g\n",
      "node tag:  {http://www.w3.org/2000/svg}g\n",
      "node tag:  {http://www.w3.org/2000/svg}rect\n",
      "node tag:  {http://www.w3.org/2000/svg}rect\n",
      "node tag:  {http://www.w3.org/2000/svg}rect\n",
      "node tag:  {http://www.w3.org/2000/svg}g\n",
      "node tag:  {http://www.w3.org/2000/svg}rect\n",
      "node tag:  {http://www.w3.org/2000/svg}rect\n",
      "node tag:  {http://www.w3.org/2000/svg}rect\n",
      "node tag:  {http://www.w3.org/2000/svg}rect\n",
      "node tag:  {http://www.w3.org/2000/svg}rect\n",
      "node tag:  {http://www.w3.org/2000/svg}rect\n",
      "node tag:  {http://www.w3.org/2000/svg}g\n",
      "node tag:  {http://www.w3.org/2000/svg}rect\n",
      "node tag:  {http://www.w3.org/2000/svg}rect\n",
      "node tag:  {http://www.w3.org/2000/svg}rect\n",
      "node tag:  {http://www.w3.org/2000/svg}rect\n",
      "node tag:  {http://www.w3.org/2000/svg}rect\n",
      "node tag:  {http://www.w3.org/2000/svg}rect\n",
      "node tag:  {http://www.w3.org/2000/svg}g\n",
      "node tag:  {http://www.w3.org/2000/svg}g\n",
      "node tag:  {http://www.w3.org/2000/svg}rect\n",
      "node tag:  {http://www.w3.org/2000/svg}rect\n",
      "node tag:  {http://www.w3.org/2000/svg}rect\n",
      "node tag:  {http://www.w3.org/2000/svg}rect\n",
      "node tag:  {http://www.w3.org/2000/svg}rect\n",
      "node tag:  {http://www.w3.org/2000/svg}g\n",
      "node tag:  {http://www.w3.org/2000/svg}rect\n",
      "node tag:  {http://www.w3.org/2000/svg}rect\n",
      "node tag:  {http://www.w3.org/2000/svg}rect\n",
      "node tag:  {http://www.w3.org/2000/svg}rect\n",
      "node tag:  {http://www.w3.org/2000/svg}rect\n",
      "node tag:  {http://www.w3.org/2000/svg}g\n",
      "node tag:  {http://www.w3.org/2000/svg}rect\n",
      "node tag:  {http://www.w3.org/2000/svg}rect\n",
      "node tag:  {http://www.w3.org/2000/svg}rect\n",
      "node tag:  {http://www.w3.org/2000/svg}rect\n",
      "node tag:  {http://www.w3.org/2000/svg}rect\n",
      "node tag:  {http://www.w3.org/2000/svg}g\n",
      "node tag:  {http://www.w3.org/2000/svg}rect\n",
      "node tag:  {http://www.w3.org/2000/svg}rect\n",
      "node tag:  {http://www.w3.org/2000/svg}rect\n",
      "node tag:  {http://www.w3.org/2000/svg}rect\n",
      "node tag:  {http://www.w3.org/2000/svg}g\n",
      "node tag:  {http://www.w3.org/2000/svg}rect\n",
      "node tag:  {http://www.w3.org/2000/svg}rect\n",
      "node tag:  {http://www.w3.org/2000/svg}g\n",
      "node tag:  {http://www.w3.org/2000/svg}rect\n",
      "node tag:  {http://www.w3.org/2000/svg}rect\n",
      "node tag:  {http://www.w3.org/2000/svg}g\n",
      "node tag:  {http://www.w3.org/2000/svg}rect\n",
      "node tag:  {http://www.w3.org/2000/svg}g\n",
      "node tag:  {http://www.w3.org/2000/svg}rect\n",
      "node tag:  {http://www.w3.org/2000/svg}rect\n",
      "node tag:  {http://www.w3.org/2000/svg}g\n",
      "node tag:  {http://www.w3.org/2000/svg}rect\n",
      "node tag:  {http://www.w3.org/2000/svg}rect\n",
      "node tag:  {http://www.w3.org/2000/svg}rect\n",
      "node tag:  {http://www.w3.org/2000/svg}rect\n",
      "node tag:  {http://www.w3.org/2000/svg}rect\n",
      "node tag:  {http://www.w3.org/2000/svg}g\n",
      "node tag:  {http://www.w3.org/2000/svg}rect\n",
      "node tag:  {http://www.w3.org/2000/svg}rect\n",
      "node tag:  {http://www.w3.org/2000/svg}rect\n",
      "node tag:  {http://www.w3.org/2000/svg}g\n"
     ]
    }
   ],
   "source": [
    "for node in root.iter():\n",
    "    # Copy inkscape labels to element_ids\n",
    "    label = node.attrib.get('{http://www.inkscape.org/namespaces/inkscape}label')\n",
    "    if label:\n",
    "        node.set('id', label)\n",
    "        \n",
    "    # Delete inkscape + sodipodi attributes on nodes\n",
    "    keys = list(node.attrib.keys())\n",
    "    for attrib_key in keys:\n",
    "        if \"inkscape\" in attrib_key or \"sodipodi\" in attrib_key:\n",
    "            node.attrib.pop(attrib_key)\n",
    "        \n",
    "    "
   ]
  },
  {
   "cell_type": "code",
   "execution_count": 44,
   "id": "f8d7d7d5-7403-46e2-adea-8d39a3a60cf3",
   "metadata": {},
   "outputs": [
    {
     "name": "stdout",
     "output_type": "stream",
     "text": [
      "['__bool__', '__class__', '__copy__', '__deepcopy__', '__delattr__', '__delitem__', '__dir__', '__doc__', '__eq__', '__format__', '__ge__', '__getattribute__', '__getitem__', '__getstate__', '__gt__', '__hash__', '__init__', '__init_subclass__', '__le__', '__len__', '__lt__', '__module__', '__ne__', '__new__', '__reduce__', '__reduce_ex__', '__repr__', '__setattr__', '__setitem__', '__setstate__', '__sizeof__', '__str__', '__subclasshook__', 'append', 'attrib', 'clear', 'extend', 'find', 'findall', 'findtext', 'get', 'insert', 'items', 'iter', 'iterfind', 'itertext', 'keys', 'makeelement', 'remove', 'set', 'tag', 'tail', 'text']\n"
     ]
    }
   ],
   "source": [
    "print(dir(node))"
   ]
  },
  {
   "cell_type": "code",
   "execution_count": 38,
   "id": "de424ee2-1aac-4c30-9934-21c1121c346c",
   "metadata": {},
   "outputs": [],
   "source": [
    "tree.write('processed.svg')"
   ]
  },
  {
   "cell_type": "code",
   "execution_count": 35,
   "id": "06a9a030-b2e3-4425-a717-a3ea76e41d75",
   "metadata": {},
   "outputs": [
    {
     "data": {
      "text/plain": [
       "'banana'"
      ]
     },
     "execution_count": 35,
     "metadata": {},
     "output_type": "execute_result"
    }
   ],
   "source": [
    "# dir(node)\n",
    "# node.attrib\n",
    "# node.set('id', 'banana')\n",
    "node.get('id')"
   ]
  },
  {
   "cell_type": "code",
   "execution_count": 19,
   "id": "016bfb28-2bbf-48d0-bb02-ea194147e644",
   "metadata": {},
   "outputs": [
    {
     "name": "stdout",
     "output_type": "stream",
     "text": [
      "<Element '{http://www.w3.org/2000/svg}g' at 0x000002821E3CFA60>\n",
      "<Element '{http://www.w3.org/2000/svg}g' at 0x000002821E3CFC90>\n",
      "<Element '{http://www.w3.org/2000/svg}g' at 0x000002821E3A9440>\n",
      "<Element '{http://www.w3.org/2000/svg}g' at 0x000002821E3A94E0>\n",
      "<Element '{http://www.w3.org/2000/svg}g' at 0x000002821E3A97B0>\n",
      "<Element '{http://www.w3.org/2000/svg}g' at 0x000002821E3A9C10>\n",
      "<Element '{http://www.w3.org/2000/svg}g' at 0x000002821E3A9EE0>\n",
      "<Element '{http://www.w3.org/2000/svg}g' at 0x000002821E3A9FD0>\n",
      "<Element '{http://www.w3.org/2000/svg}g' at 0x000002821E3AA390>\n",
      "<Element '{http://www.w3.org/2000/svg}g' at 0x000002821E3AA6B0>\n",
      "<Element '{http://www.w3.org/2000/svg}g' at 0x000002821E3AA930>\n",
      "<Element '{http://www.w3.org/2000/svg}g' at 0x000002821E3AAAC0>\n",
      "<Element '{http://www.w3.org/2000/svg}g' at 0x000002821E3AAC50>\n",
      "<Element '{http://www.w3.org/2000/svg}g' at 0x000002821E3AADE0>\n",
      "<Element '{http://www.w3.org/2000/svg}g' at 0x000002821E3AAED0>\n",
      "<Element '{http://www.w3.org/2000/svg}g' at 0x000002821E3AB060>\n",
      "<Element '{http://www.w3.org/2000/svg}g' at 0x000002821E3AB420>\n",
      "<Element '{http://www.w3.org/2000/svg}g' at 0x000002821E3AB560>\n"
     ]
    }
   ],
   "source": [
    "for x in root.iter('{http://www.w3.org/2000/svg}g'):\n",
    "    print(x)"
   ]
  },
  {
   "cell_type": "code",
   "execution_count": 20,
   "id": "df598435-6409-4d70-b9ff-72c37c5d5a3e",
   "metadata": {},
   "outputs": [
    {
     "name": "stdout",
     "output_type": "stream",
     "text": [
      "<Element '{http://www.w3.org/2000/svg}g' at 0x000002821E3CFA60>\n",
      "<Element '{http://www.w3.org/2000/svg}g' at 0x000002821E3CFC90>\n",
      "<Element '{http://www.w3.org/2000/svg}g' at 0x000002821E3A9440>\n",
      "<Element '{http://www.w3.org/2000/svg}g' at 0x000002821E3AB560>\n"
     ]
    }
   ],
   "source": [
    "for x in root.findall('svg:g', ns):\n",
    "    print(x)"
   ]
  }
 ],
 "metadata": {
  "kernelspec": {
   "display_name": "Python 3 (ipykernel)",
   "language": "python",
   "name": "python3"
  },
  "language_info": {
   "codemirror_mode": {
    "name": "ipython",
    "version": 3
   },
   "file_extension": ".py",
   "mimetype": "text/x-python",
   "name": "python",
   "nbconvert_exporter": "python",
   "pygments_lexer": "ipython3",
   "version": "3.12.2"
  }
 },
 "nbformat": 4,
 "nbformat_minor": 5
}
